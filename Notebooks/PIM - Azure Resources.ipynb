{
 "cells": [
  {
   "cell_type": "markdown",
   "metadata": {},
   "source": [
    "# Azure Privileged Identity Management\n",
    "\n",
    "[Azure AD Privileged Identity Management (PIM)](https://learn.microsoft.com/en-us/entra/id-governance/privileged-identity-management/pim-configure) is a service that enables you to manage, control, and monitor access to important resources in your organization. These resources include resources in Azure AD such as administrative roles and access to Azure resources.\n",
    "\n",
    "Privileged Identity Management provides time-based and approval-based role activation to mitigate the risks of excessive, unnecessary, or misused access permissions on resources\n",
    "\n",
    "## This notebook\n",
    "\n",
    "This notebook will walk you through the following steps:\n",
    "- Configure the role settings like notifications, role assignment duration, and approval workflow\n",
    "- Assign eligible roles to users"
   ]
  },
  {
   "cell_type": "markdown",
   "metadata": {},
   "source": [
    "### Set required variables\n",
    "\n",
    "This cell sets the variables that are required to run the notebook. The variables are used in the rest of the notebook. \n",
    "\n",
    "- The `approversEntraIDGroup` is used in this notebook to identify the Azure Entra ID Group that contains the approvers for the PIM role assignments using the Object Id..\n",
    "- The `eligiblePrincipalId` is used in this notebook to identify the Azure Entra ID group or user who is able to request a role assignment using the Object Id.\n",
    "- The `privilegedRoles` denotes roles that require approval before they can become active.\n"
   ]
  },
  {
   "cell_type": "code",
   "execution_count": null,
   "metadata": {
    "dotnet_interactive": {
     "language": "csharp"
    },
    "polyglot_notebook": {
     "kernelName": "csharp"
    }
   },
   "outputs": [],
   "source": [
    "var tenantId = \"\";\n",
    "var subscriptionId = \"\";\n",
    "var approversEntraIDGroup = \"\";\n",
    "var approversEntraIDGroupName = \"\";\n",
    "var eligiblePrincipalId = Guid.Parse(\"\");\n",
    "var privilegedRoles = new[] { \"Owner\", \"Contributor\", \"Role Based Access Control Administrator\", \"User Access Administrator\" };"
   ]
  },
  {
   "cell_type": "markdown",
   "metadata": {},
   "source": [
    "### Set up the ARM Client\n",
    "\n",
    "The [Microsoft Azure Resource Manager client library for .NET](https://learn.microsoft.com/en-us/dotnet/api/overview/azure/resourcemanager-readme?view=azure-dotnet) allows for inspecting, creating and updating of Azure Resources. The client is used to update PIM role settings and assign roles to groups."
   ]
  },
  {
   "cell_type": "code",
   "execution_count": null,
   "metadata": {
    "dotnet_interactive": {
     "language": "csharp"
    },
    "polyglot_notebook": {
     "kernelName": "csharp"
    }
   },
   "outputs": [],
   "source": [
    "#r \"nuget:Azure.ResourceManager.Authorization\"\n",
    "#r \"nuget:Azure.ResourceManager.Resources\"\n",
    "#r \"nuget:Azure.Identity\"\n",
    "\n",
    "using Azure;\n",
    "using Azure.Core;\n",
    "using Azure.Identity;\n",
    "using Azure.ResourceManager;\n",
    "using Azure.ResourceManager.Authorization;\n",
    "\n",
    "var armClientOptions = new InteractiveBrowserCredentialOptions\n",
    "{\n",
    "\tTenantId = tenantId,\n",
    "\tAuthorityHost = AzureAuthorityHosts.AzurePublicCloud\n",
    "};\n",
    "\n",
    "var armClient = new ArmClient(new InteractiveBrowserCredential(armClientOptions), subscriptionId);\n",
    "string scope = $\"providers/Microsoft.Subscription/subscriptions/{subscriptionId}\";\n",
    "var scopeId = new ResourceIdentifier(string.Format(\"/{0}\", scope));\n"
   ]
  },
  {
   "cell_type": "markdown",
   "metadata": {},
   "source": [
    "Build list of roles and their corresponding role policy. Approval is required when the role is in the `privilegedRoles` list."
   ]
  },
  {
   "cell_type": "code",
   "execution_count": null,
   "metadata": {
    "dotnet_interactive": {
     "language": "csharp"
    },
    "polyglot_notebook": {
     "kernelName": "csharp"
    }
   },
   "outputs": [],
   "source": [
    "var subscription = await armClient.GetDefaultSubscriptionAsync();\n",
    "var policyApprovalRequired = new Dictionary<string, bool>();\n",
    "\n",
    "await foreach (var assignments in subscription.GetRoleManagementPolicyAssignments())\n",
    "{\n",
    "\tvar roleName = assignments.Data.PolicyAssignmentProperties.RoleDefinitionDisplayName;\n",
    "\tpolicyApprovalRequired.Add(assignments.Data.PolicyId.Name, privilegedRoles.Contains(roleName));\n",
    "}"
   ]
  },
  {
   "cell_type": "markdown",
   "metadata": {},
   "source": [
    "### Modify default PIM role settings\n",
    "\n",
    "This code modifies the default [PIM role settings](https://learn.microsoft.com/en-us/entra/id-governance/privileged-identity-management/pim-resource-roles-configure-role-settings#role-settings). The default settings are modified to allow permanent eligible assignments and sets an Azure Entra ID Group with approvers for the role assignments."
   ]
  },
  {
   "cell_type": "code",
   "execution_count": null,
   "metadata": {
    "dotnet_interactive": {
     "language": "csharp"
    },
    "polyglot_notebook": {
     "kernelName": "csharp"
    }
   },
   "outputs": [],
   "source": [
    "using Azure.ResourceManager.Authorization.Models;\n",
    "\n",
    "await foreach (var policy in armClient.GetRoleManagementPolicies(scopeId).GetAllAsync())\n",
    "{\n",
    "\tforeach (var rule in policy.Data.Rules)\n",
    "\t{\n",
    "\t\tUpdateRule(rule, policyApprovalRequired.GetValueOrDefault(policy.Data.Name));\n",
    "\t}\n",
    "\t\t\n",
    "\tpolicy.Update(policy.Data);\n",
    "}\n",
    "\n",
    "void UpdateRule(RoleManagementPolicyRule rule, bool isApprovalRequired)\n",
    "{\n",
    "\tswitch (rule)\n",
    "\t{\n",
    "\t\tcase RoleManagementPolicyApprovalRule approvalRule:\n",
    "\t\t\tif (approvalRule.Id != \"Approval_EndUser_Assignment\")\n",
    "\t\t\t\treturn;\n",
    "\n",
    "\t\t\tapprovalRule.Settings.IsApprovalRequired = isApprovalRequired;\n",
    "\t\t\t\t\t\t\n",
    "\t\t\tvar stage = approvalRule.Settings.ApprovalStages.First();\n",
    "\t\t\t\n",
    "\t\t\tif(!isApprovalRequired) \n",
    "\t\t\t\tstage.PrimaryApprovers.Clear();\n",
    "\t\t\t\t\t\t\t\n",
    "\t\t\tif (stage.PrimaryApprovers.Any(pa => pa.Id == approversEntraIDGroup) || !isApprovalRequired)\n",
    "\t\t\t\treturn;\n",
    "\n",
    "\t\t\tstage.PrimaryApprovers.Add(new RoleManagementUserInfo\n",
    "\t\t\t{\n",
    "\t\t\t\tUserType = RoleManagementUserType.Group,\n",
    "\t\t\t\tDescription = approversEntraIDGroupName,\n",
    "\t\t\t\tId = approversEntraIDGroup,\n",
    "\t\t\t\tIsBackup = false\n",
    "\t\t\t});\n",
    "\t\t\tbreak;\n",
    "\t\tcase RoleManagementPolicyNotificationRule notificationRule:\n",
    "\t\t\tswitch (notificationRule.Id)\n",
    "\t\t\t{\n",
    "\t\t\t\tcase \"Notification_Admin_Admin_Eligibility\":\n",
    "\t\t\t\tcase \"Notification_Admin_Admin_Assignment\":\n",
    "\t\t\t\tcase \"Notification_Admin_EndUser_Assignment\":\n",
    "\t\t\t\tcase \"Notification_Requestor_Admin_Eligibility\":\n",
    "\t\t\t\tcase \"Notification_Requestor_Admin_Assignment\":\n",
    "\t\t\t\t\tnotificationRule.AreDefaultRecipientsEnabled = false;\n",
    "\t\t\t\t\tbreak;\n",
    "\t\t\t\tdefault:\n",
    "\t\t\t\t\tnotificationRule.AreDefaultRecipientsEnabled = true;\n",
    "\t\t\t\t\tbreak;\n",
    "\t\t\t}\n",
    "\t\t\tbreak;\n",
    "\t\tcase RoleManagementPolicyExpirationRule expirationRule:\n",
    "\t\t\texpirationRule.IsExpirationRequired = rule.Id != \"Expiration_Admin_Eligibility\";\n",
    "\t\t\tbreak;\n",
    "\t}\n",
    "}"
   ]
  },
  {
   "cell_type": "markdown",
   "metadata": {},
   "source": [
    "### Assing role eligibility to Azure Entra ID Group\n",
    "\n",
    "Before a user can request a role assignment, the user must be eligible for the role. This code assigns the Azure Entra ID Group to the role eligibility. The group is used to identify the users that are eligible for the role."
   ]
  },
  {
   "cell_type": "code",
   "execution_count": null,
   "metadata": {
    "dotnet_interactive": {
     "language": "csharp"
    },
    "polyglot_notebook": {
     "kernelName": "csharp"
    }
   },
   "outputs": [],
   "source": [
    "var roleDefinitions = armClient.GetAuthorizationRoleDefinitions(scopeId);\n",
    "await foreach (var roleDefinition in roleDefinitions.GetAllAsync())\n",
    "{\n",
    "    var assignments = armClient.GetRoleEligibilityScheduleRequests(new ResourceIdentifier(scope));\n",
    "\tvar eligibilityRequest = new RoleEligibilityScheduleRequestData\n",
    "\t{\n",
    "\t\tExpirationType = RoleManagementScheduleExpirationType.NoExpiration,\n",
    "\t\tRequestType = RoleManagementScheduleRequestType.AdminAssign,\n",
    "\t\tStartOn = DateTime.Now,\n",
    "\t\tRoleDefinitionId = roleDefinition.Id,\n",
    "\t\tPrincipalId = eligiblePrincipalId\n",
    "\t};\n",
    "\n",
    "\ttry\n",
    "\t{\n",
    "\t\tassignments.CreateOrUpdate(WaitUntil.Completed, Guid.NewGuid().ToString(), eligibilityRequest);\n",
    "\t}\n",
    "\tcatch(Exception ex)\n",
    "\t{\n",
    "\t\tConsole.WriteLine($\"failed to assign role '{roleDefinition.Data.Description}' ({roleDefinition.Data.Name}) to principal {eligiblePrincipalId}: {ex.Message}\");\n",
    "\t}\n",
    "}"
   ]
  }
 ],
 "metadata": {
  "kernelspec": {
   "display_name": ".NET (C#)",
   "language": "C#",
   "name": ".net-csharp"
  },
  "language_info": {
   "name": "polyglot-notebook"
  },
  "polyglot_notebook": {
   "kernelInfo": {
    "defaultKernelName": "csharp",
    "items": [
     {
      "aliases": [],
      "languageName": "csharp",
      "name": "csharp"
     }
    ]
   }
  }
 },
 "nbformat": 4,
 "nbformat_minor": 2
}
