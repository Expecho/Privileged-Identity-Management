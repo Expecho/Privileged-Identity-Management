{
 "cells": [
  {
   "cell_type": "markdown",
   "metadata": {},
   "source": [
    "# Azure Privileged Identity Management\n",
    "\n",
    "[Azure AD Privileged Identity Management (PIM)](https://learn.microsoft.com/en-us/entra/id-governance/privileged-identity-management/pim-configure) is a service that enables you to manage, control, and monitor access to important resources in your organization. These resources include resources in Azure Entra Id such as administrative roles and access to Azure resources.\n",
    "\n",
    "Privileged Identity Management provides time-based and approval-based role activation to mitigate the risks of excessive, unnecessary, or misused access permissions on resources\n",
    "\n",
    "## This notebook\n",
    "\n",
    "This notebook will walk you through the following steps:\n",
    "- Configure the group settings like notifications, group membership duration, and approval workflow\n",
    "- Assign eligible groups to users"
   ]
  },
  {
   "cell_type": "markdown",
   "metadata": {},
   "source": [
    "# Prerequisites\n",
    "\n",
    "To connect to the Microsoft Graph Api you need to have an app registration in Microsoft Entra Id with the following API permissions for Microsoft Graph:\n",
    "- RoleManagement.ReadWrite.Directory\n",
    "- PrivilegedEligibilitySchedule.ReadWrite.AzureADGroup\n",
    "- PrivilegedAccess.ReadWrite.AzureADGroup"
   ]
  },
  {
   "cell_type": "markdown",
   "metadata": {},
   "source": [
    "### Set required variables\n",
    "\n",
    "This cell sets the variables that are required to run the notebook. The variables are used in the rest of the notebook. \n",
    "\n",
    "- The `approversEntraIDGroup` is used in this notebook to identify the Azure Entra ID Group that contains the approvers for the PIM group membership using the Object Id.\n",
    "- The `eligiblePrincipalId` is used in this notebook to identify the [Azure Entra ID group](https://learn.microsoft.com/en-us/entra/identity/role-based-access-control/groups-create-eligible?tabs=ms-powershell) or user who is able to request a group membership using the Object Id. \n",
    "- The `privilegedGroups` denotes the group names for groupmembership requests that require approval before they can become active.\n"
   ]
  },
  {
   "cell_type": "code",
   "execution_count": null,
   "metadata": {
    "dotnet_interactive": {
     "language": "csharp"
    },
    "polyglot_notebook": {
     "kernelName": "csharp"
    }
   },
   "outputs": [],
   "source": [
    "var tenantId = \"\";\n",
    "var clientId = \"\"; \n",
    "var approversEntraIDGroup = \"\";\n",
    "var approversEntraIDGroupName = \"PIM Approvers\";\n",
    "var eligiblePrincipalId = \"\";\n",
    "var nonPrivilegedGroups = new[] { \"\" };\n",
    "var eligibleGroups = new[] { \"Sql Server Administrators\", \"AAD DC Administrators\" };\n"
   ]
  },
  {
   "cell_type": "markdown",
   "metadata": {},
   "source": [
    "### Set up the Microsoft Graph SDK\n",
    "\n",
    "The [Microsoft Graph SDK for .NET](https://learn.microsoft.com/en-us/graph/sdks/sdks-overview) allows for inspecting, creating and updating of Azure Entra ID Resources. The client is used to update PIM group membership settings and assign group memberships to groups."
   ]
  },
  {
   "cell_type": "code",
   "execution_count": null,
   "metadata": {
    "dotnet_interactive": {
     "language": "csharp"
    },
    "polyglot_notebook": {
     "kernelName": "csharp"
    }
   },
   "outputs": [],
   "source": [
    "#r \"nuget:Azure.Identity\"\n",
    "#r \"nuget:Microsoft.Graph\"\n",
    "\n",
    "using Azure.Identity;\n",
    "using Microsoft.Graph;\n",
    "using Microsoft.Graph.Models;\n",
    "\n",
    "var scopes = new[] { \"RoleManagement.ReadWrite.Directory\", \"PrivilegedEligibilitySchedule.ReadWrite.AzureADGroup\", \"PrivilegedAccess.ReadWrite.AzureADGroup\" };\n",
    "var graphOptions = new InteractiveBrowserCredentialOptions\n",
    "{\n",
    "\tTenantId = tenantId,\n",
    "\tClientId = clientId,\n",
    "\tAuthorityHost = AzureAuthorityHosts.AzurePublicCloud,\n",
    "\tRedirectUri = new Uri(\"http://localhost\")\n",
    "};\n",
    "\n",
    "var interactiveCredential = new InteractiveBrowserCredential(graphOptions);\n",
    "var graphClient = new GraphServiceClient(interactiveCredential, scopes);\n"
   ]
  },
  {
   "cell_type": "markdown",
   "metadata": {},
   "source": [
    "### Modify default PIM group settings\n",
    "\n",
    "This code modifies the default [PIM group settings](https://learn.microsoft.com/en-us/entra/id-governance/privileged-identity-management/groups-role-settings). The default settings are modified to allow permanent eligible assignments and sets an Azure Entra ID Group with approvers for the group membership assignments."
   ]
  },
  {
   "cell_type": "code",
   "execution_count": null,
   "metadata": {
    "dotnet_interactive": {
     "language": "csharp"
    },
    "polyglot_notebook": {
     "kernelName": "csharp"
    }
   },
   "outputs": [],
   "source": [
    "var entraIdgroups = (await graphClient.Groups.GetAsync()).Value;\n",
    "\n",
    "foreach(var group in entraIdgroups)\n",
    "{\n",
    "   var policies = await graphClient.Policies.RoleManagementPolicies.GetAsync((requestConfiguration) =>\n",
    "    {\n",
    "    \trequestConfiguration.QueryParameters.Filter = $\"scopeId eq '{group.Id}' and scopeType eq 'Group'\";\n",
    "    \trequestConfiguration.QueryParameters.Expand = new string []{ \"rules\" };\n",
    "    });\n",
    "\n",
    "    foreach (var policy in policies.Value)\n",
    "    {\n",
    "        foreach (var rule in policy.Rules)\n",
    "        {\n",
    "            switch (rule)\n",
    "            {\n",
    "                case UnifiedRoleManagementPolicyApprovalRule approvalRule:\n",
    "                    if (rule.Id != \"Approval_EndUser_Assignment\")\n",
    "                        break;\n",
    "\n",
    "                    approvalRule.Setting.IsApprovalRequired = policyApprovalRequired.GetValueOrDefault(policy.Id!);\n",
    "\n",
    "                    var stage = approvalRule.Setting.ApprovalStages.First();\n",
    "                    if (!approvalRule.Setting.IsApprovalRequired.GetValueOrDefault())\n",
    "                        stage.PrimaryApprovers.Clear();\n",
    "\n",
    "                    if (stage.PrimaryApprovers.OfType<GroupMembers>().Any(gm => gm.GroupId == approversEntraIDGroup) || !approvalRule.Setting.IsApprovalRequired.GetValueOrDefault())\n",
    "                        break;\n",
    "\n",
    "                    stage.PrimaryApprovers.Add(new GroupMembers\n",
    "                    {\n",
    "                        Description = approversEntraIDGroupName,\n",
    "                        GroupId = approversEntraIDGroup,\n",
    "                    });\n",
    "                    break;\n",
    "                case UnifiedRoleManagementPolicyNotificationRule notificationRule:\n",
    "                    switch (rule.Id)\n",
    "                    {\n",
    "                        case \"Notification_Admin_Admin_Eligibility\":\n",
    "                        case \"Notification_Admin_Admin_Assignment\":\n",
    "                        case \"Notification_Admin_EndUser_Assignment\":\n",
    "                        case \"Notification_Requestor_Admin_Eligibility\":\n",
    "                        case \"Notification_Requestor_Admin_Assignment\":\n",
    "                            notificationRule.IsDefaultRecipientsEnabled = false;\n",
    "                            break;\n",
    "                        default:\n",
    "                            notificationRule.IsDefaultRecipientsEnabled = true;\n",
    "                            break;\n",
    "                    }\n",
    "                    break;\n",
    "                case UnifiedRoleManagementPolicyExpirationRule expirationRule:\n",
    "                    expirationRule.IsExpirationRequired = rule.Id != \"Expiration_Admin_Eligibility\";\n",
    "                    break;\n",
    "            }\n",
    "\n",
    "            try\n",
    "        \t{\n",
    "\t        \tvar result = await graphClient.Policies.RoleManagementPolicies[policy.Id].Rules[rule.Id].PatchAsync(rule);\n",
    "\t        }\n",
    "\t        catch(Exception ex)\n",
    "\t        {\n",
    "                policy.Display();\n",
    "\t    \t    Console.WriteLine($\"failed to update rule '{rule.Id}' for group {group.DisplayName} / policy {policy.DisplayName}: {ex.Message}\");\n",
    "\t        }\n",
    "        }\n",
    "    }   \n",
    "}"
   ]
  },
  {
   "cell_type": "markdown",
   "metadata": {},
   "source": [
    "### Assing group membership eligibility to Azure Entra ID Group\n",
    "\n",
    "Before a user can request a group membership, the user must be eligible for the group membership. This code assigns the Azure Entra ID Group to the group membership eligibility. The group is used to identify the users that are eligible for the group membership."
   ]
  },
  {
   "cell_type": "code",
   "execution_count": null,
   "metadata": {
    "dotnet_interactive": {
     "language": "csharp"
    },
    "polyglot_notebook": {
     "kernelName": "csharp"
    }
   },
   "outputs": [],
   "source": [
    "var eligibleEntraIdGroups = (await graphClient.Groups.GetAsync()).Value.Where(g => eligibleGroups.Contains(g.DisplayName)).ToList();\n",
    "\n",
    "foreach(var group in eligibleEntraIdGroups)\n",
    "{\n",
    "\tvar requestBody = new PrivilegedAccessGroupEligibilityScheduleRequest\n",
    "\t{\n",
    "\t\tAction = ScheduleRequestActions.AdminAssign,\n",
    "\t\tAccessId = PrivilegedAccessGroupRelationships.Member,\n",
    "\t\tPrincipalId = eligiblePrincipalId\n",
    "\t\tGroupId = group.Id,\n",
    "\t\tScheduleInfo = new RequestSchedule\n",
    "\t\t{\n",
    "\t\t\tExpiration = new ExpirationPattern\n",
    "\t\t\t{\n",
    "\t\t\t\tType = ExpirationPatternType.NoExpiration\n",
    "\t\t\t}\n",
    "\t\t}\n",
    "\t};\n",
    "\ttry\n",
    "\t{\n",
    "\t\tvar result = await graphClient.IdentityGovernance.PrivilegedAccess.Group.EligibilityScheduleRequests.PostAsync(requestBody);\n",
    "\t}\n",
    "\tcatch(Exception ex)\n",
    "\t{\n",
    "\t\tConsole.WriteLine($\"failed to assign group '{group.DisplayName}' ({group.Id}) to principal {eligiblePrincipalId}: {ex.Message}\");\n",
    "\t}\n",
    "};"
   ]
  }
 ],
 "metadata": {
  "kernelspec": {
   "display_name": ".NET (C#)",
   "language": "C#",
   "name": ".net-csharp"
  },
  "language_info": {
   "name": "polyglot-notebook"
  },
  "polyglot_notebook": {
   "kernelInfo": {
    "defaultKernelName": "csharp",
    "items": [
     {
      "aliases": [],
      "languageName": "csharp",
      "name": "csharp"
     }
    ]
   }
  }
 },
 "nbformat": 4,
 "nbformat_minor": 2
}
