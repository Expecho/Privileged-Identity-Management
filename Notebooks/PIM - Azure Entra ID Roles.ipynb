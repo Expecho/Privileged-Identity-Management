{
 "cells": [
  {
   "cell_type": "markdown",
   "metadata": {},
   "source": [
    "# Azure Privileged Identity Management\n",
    "\n",
    "[Azure AD Privileged Identity Management (PIM)](https://learn.microsoft.com/en-us/entra/id-governance/privileged-identity-management/pim-configure) is a service that enables you to manage, control, and monitor access to important resources in your organization. These resources include resources in Azure Entra Id such as administrative roles and access to Azure resources.\n",
    "\n",
    "Privileged Identity Management provides time-based and approval-based role activation to mitigate the risks of excessive, unnecessary, or misused access permissions on resources\n",
    "\n",
    "## This notebook\n",
    "\n",
    "This notebook will walk you through the following steps:\n",
    "- Configure the role settings like notifications, role assignment duration, and approval workflow\n",
    "- Assign eligible roles to users"
   ]
  },
  {
   "cell_type": "markdown",
   "metadata": {},
   "source": [
    "# Prerequisites\n",
    "\n",
    "To connect to the Microsoft Graph Api you need to have an app registration in Microsoft Entra Id with the following API permissions for Microsoft Graph:\n",
    "- RoleManagement.ReadWrite.Directory"
   ]
  },
  {
   "cell_type": "markdown",
   "metadata": {},
   "source": [
    "### Set required variables\n",
    "\n",
    "This cell sets the variables that are required to run the notebook. The variables are used in the rest of the notebook. \n",
    "\n",
    "- The `approversEntraIDGroup` is used in this notebook to identify the Azure Entra ID Group that contains the approvers for the PIM role assignments using the Object Id.\n",
    "- The `eligiblePrincipalId` is used in this notebook to identify the [Azure Entra ID group](https://learn.microsoft.com/en-us/entra/identity/role-based-access-control/groups-create-eligible?tabs=ms-powershell) or user who is able to request a role assignment using the Object Id..\n",
    "- The `privilegedRoles` denotes roles that require approval before they can become active.\n"
   ]
  },
  {
   "cell_type": "code",
   "execution_count": 13,
   "metadata": {
    "dotnet_interactive": {
     "language": "csharp"
    },
    "polyglot_notebook": {
     "kernelName": "csharp"
    }
   },
   "outputs": [],
   "source": [
    "var tenantId = \"\";\n",
    "var clientId = \"\";\n",
    "var approversEntraIDGroup = \"\";\n",
    "var approversEntraIDGroupName = \"PIM Approvers\";\n",
    "var eligiblePrincipalId = \"\";  \n",
    "var privilegedRoles = new[] { \"Application Administrator\", \"Application Developer\", \"Authentication Administrator\", \"Authentication Extensibility Administrator\", \"B2C IEF Keyset Administrator\", \"Cloud Application Administrator\", \"Cloud Device Administrator\", \"Conditional Access Administrator\", \"Directory Writers\", \"Global Administrator\", \"Global Reader\", \"Helpdesk Administrator\", \"Hybrid Identity Administrator\", \"Intune Administrator\", \"Password Administrator\", \"Privileged Authentication Administrator\", \"Privileged Role Administrator\", \"Security Administrator\", \"Security Operator\", \"Security Reader\", \"User Administrator\" };"
   ]
  },
  {
   "cell_type": "markdown",
   "metadata": {},
   "source": [
    "### Set up the Microsoft Graph SDK\n",
    "\n",
    "The [Microsoft Graph SDK for .NET](https://learn.microsoft.com/en-us/graph/sdks/sdks-overview) allows for inspecting, creating and updating of Azure Entra ID Resources. The client is used to update PIM role settings and assign roles to groups."
   ]
  },
  {
   "cell_type": "code",
   "execution_count": null,
   "metadata": {
    "dotnet_interactive": {
     "language": "csharp"
    },
    "polyglot_notebook": {
     "kernelName": "csharp"
    }
   },
   "outputs": [],
   "source": [
    "#r \"nuget:Azure.Identity\"\n",
    "#r \"nuget:Microsoft.Graph\"\n",
    "\n",
    "using Azure.Identity;\n",
    "using Microsoft.Graph;\n",
    "using Microsoft.Graph.Models;\n",
    "\n",
    "var scopes = new[] { \"RoleManagement.ReadWrite.Directory\" };\n",
    "var graphOptions = new InteractiveBrowserCredentialOptions\n",
    "{\n",
    "\tTenantId = tenantId,\n",
    "\tClientId = clientId,\n",
    "\tAuthorityHost = AzureAuthorityHosts.AzurePublicCloud,\n",
    "\tRedirectUri = new Uri(\"http://localhost\")\n",
    "};\n",
    "\n",
    "var interactiveCredential = new InteractiveBrowserCredential(graphOptions);\n",
    "var graphClient = new GraphServiceClient(interactiveCredential, scopes);\n"
   ]
  },
  {
   "cell_type": "markdown",
   "metadata": {},
   "source": [
    "Build list of roles and their corresponding role policy. Approval is required when the role is in the `privilegedRoles` list."
   ]
  },
  {
   "cell_type": "code",
   "execution_count": null,
   "metadata": {
    "dotnet_interactive": {
     "language": "csharp"
    },
    "polyglot_notebook": {
     "kernelName": "csharp"
    }
   },
   "outputs": [],
   "source": [
    "var policyApprovalRequired = new Dictionary<string, bool>();\n",
    "var assignments = await graphClient.Policies.RoleManagementPolicyAssignments.GetAsync((requestConfiguration) =>\n",
    "\t\t\t\t\t\t{\n",
    "\t\t\t\t\t\t\trequestConfiguration.QueryParameters.Filter = \"scopeId eq '/' and scopeType eq 'DirectoryRole'\";\n",
    "\t\t\t\t\t\t});\n",
    "foreach (var assignment in assignments.Value)\n",
    "{\n",
    "\tvar role = (await graphClient.DirectoryRoleTemplates[assignment.RoleDefinitionId].GetAsync());\n",
    "\tpolicyApprovalRequired.Add(assignment.PolicyId, privilegedRoles.Contains(role.DisplayName));\n",
    "}\n"
   ]
  },
  {
   "cell_type": "markdown",
   "metadata": {},
   "source": [
    "### Modify default PIM role settings\n",
    "\n",
    "This code modifies the default [PIM role settings](https://learn.microsoft.com/en-us/entra/id-governance/privileged-identity-management/pim-resource-roles-configure-role-settings#role-settings). The default settings are modified to allow permanent eligible assignments and sets an Azure Entra ID Group with approvers for the role assignments."
   ]
  },
  {
   "cell_type": "code",
   "execution_count": null,
   "metadata": {
    "dotnet_interactive": {
     "language": "csharp"
    },
    "polyglot_notebook": {
     "kernelName": "csharp"
    }
   },
   "outputs": [],
   "source": [
    "var policies = await graphClient.Policies.RoleManagementPolicies.GetAsync((requestConfiguration) =>\n",
    "{\n",
    "\trequestConfiguration.QueryParameters.Filter = \"scopeId eq '/' and scopeType eq 'DirectoryRole'\";\n",
    "\trequestConfiguration.QueryParameters.Expand = new string []{ \"rules\" };\n",
    "});\n",
    "\n",
    "foreach (var policy in policies.Value)\n",
    "{\n",
    "    foreach (var rule in policy.Rules)\n",
    "    {\n",
    "        switch (rule)\n",
    "        {\n",
    "            case UnifiedRoleManagementPolicyApprovalRule approvalRule:\n",
    "                if (rule.Id != \"Approval_EndUser_Assignment\")\n",
    "                    break;\n",
    "\n",
    "                approvalRule.Setting.IsApprovalRequired = policyApprovalRequired.GetValueOrDefault(policy.Id!);\n",
    "\n",
    "                var stage = approvalRule.Setting.ApprovalStages.First();\n",
    "                if (!approvalRule.Setting.IsApprovalRequired.GetValueOrDefault())\n",
    "                    stage.PrimaryApprovers.Clear();\n",
    "\n",
    "                if (stage.PrimaryApprovers.OfType<GroupMembers>().Any(gm => gm.GroupId == approversEntraIDGroup) || !approvalRule.Setting.IsApprovalRequired.GetValueOrDefault())\n",
    "                    break;\n",
    "\n",
    "                stage.PrimaryApprovers.Add(new GroupMembers\n",
    "                {\n",
    "                    Description = approversEntraIDGroupName,\n",
    "                    GroupId = approversEntraIDGroup,\n",
    "                });\n",
    "                break;\n",
    "            case UnifiedRoleManagementPolicyNotificationRule notificationRule:\n",
    "                switch (rule.Id)\n",
    "                {\n",
    "                    case \"Notification_Admin_Admin_Eligibility\":\n",
    "                    case \"Notification_Admin_Admin_Assignment\":\n",
    "                    case \"Notification_Admin_EndUser_Assignment\":\n",
    "                    case \"Notification_Requestor_Admin_Eligibility\":\n",
    "                    case \"Notification_Requestor_Admin_Assignment\":\n",
    "                        notificationRule.IsDefaultRecipientsEnabled = false;\n",
    "                        break;\n",
    "                    default:\n",
    "                        notificationRule.IsDefaultRecipientsEnabled = true;\n",
    "                        break;\n",
    "                }\n",
    "                break;\n",
    "            case UnifiedRoleManagementPolicyExpirationRule expirationRule:\n",
    "                expirationRule.IsExpirationRequired = rule.Id != \"Expiration_Admin_Eligibility\";\n",
    "                break;\n",
    "        }\n",
    "\n",
    "        try\n",
    "    \t{\n",
    "\t    \tvar result = await graphClient.Policies.RoleManagementPolicies[policy.Id].Rules[rule.Id].PatchAsync(rule);\n",
    "\t    }\n",
    "\t    catch(Exception ex)\n",
    "\t    {\n",
    "            policy.Display();\n",
    "\t\t    Console.WriteLine($\"failed to update rule '{rule.Id}' for policy {policy.DisplayName}: {ex.Message}\");\n",
    "\t    }\n",
    "    }\n",
    "}"
   ]
  },
  {
   "cell_type": "markdown",
   "metadata": {},
   "source": [
    "### Assing role eligibility to Azure Entra ID Group\n",
    "\n",
    "Before a user can request a role assignment, the user must be eligible for the role. This code assigns the Azure Entra ID Group to the role eligibility. The group is used to identify the users that are eligible for the role."
   ]
  },
  {
   "cell_type": "code",
   "execution_count": null,
   "metadata": {
    "dotnet_interactive": {
     "language": "csharp"
    },
    "polyglot_notebook": {
     "kernelName": "csharp"
    }
   },
   "outputs": [],
   "source": [
    "var directoryRoles = await graphClient.DirectoryRoleTemplates.GetAsync();\n",
    "\n",
    "foreach(var directoryRole in directoryRoles.Value)\n",
    "{\n",
    "\tvar requestBody = new UnifiedRoleEligibilityScheduleRequest\n",
    "\t{\n",
    "\t\tAction = UnifiedRoleScheduleRequestActions.AdminAssign,\n",
    "\t\tRoleDefinitionId = directoryRole.Id,\n",
    "\t\tDirectoryScopeId = \"/\",\n",
    "\t\tPrincipalId = eligiblePrincipalId,\n",
    "\t\tScheduleInfo = new RequestSchedule\n",
    "\t\t{\n",
    "\t\t\tExpiration = new ExpirationPattern\n",
    "\t\t\t{\n",
    "\t\t\t\tType = ExpirationPatternType.NoExpiration\n",
    "\t\t\t}\n",
    "\t\t}\n",
    "\t};\n",
    "\ttry\n",
    "\t{\n",
    "\t\tvar result = await graphClient.RoleManagement.Directory.RoleEligibilityScheduleRequests.PostAsync(requestBody);\n",
    "\t}\n",
    "\tcatch(Exception ex)\n",
    "\t{\n",
    "\t\tConsole.WriteLine($\"failed to assign role '{directoryRole.DisplayName}' ({directoryRole.Id}) to principal {eligiblePrincipalId}: {ex.Message}\");\n",
    "\t}\n",
    "};"
   ]
  }
 ],
 "metadata": {
  "kernelspec": {
   "display_name": ".NET (C#)",
   "language": "C#",
   "name": ".net-csharp"
  },
  "language_info": {
   "name": "polyglot-notebook"
  },
  "polyglot_notebook": {
   "kernelInfo": {
    "defaultKernelName": "csharp",
    "items": [
     {
      "aliases": [],
      "languageName": "csharp",
      "name": "csharp"
     }
    ]
   }
  }
 },
 "nbformat": 4,
 "nbformat_minor": 2
}
